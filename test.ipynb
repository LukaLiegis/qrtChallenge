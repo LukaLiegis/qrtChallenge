{
 "cells": [
  {
   "cell_type": "code",
   "metadata": {
    "ExecuteTime": {
     "end_time": "2024-07-22T09:54:16.667215Z",
     "start_time": "2024-07-22T09:54:13.544694Z"
    }
   },
   "source": [
    "from sklearn.ensemble import GradientBoostingClassifier, StackingClassifier\n",
    "from sklearn.model_selection import train_test_split\n",
    "from sklearn.linear_model import LogisticRegressionCV\n",
    "from skopt.space import Real, Integer, Categorical\n",
    "from sklearn.neural_network import MLPClassifier\n",
    "from sklearn.metrics import accuracy_score\n",
    "from sklearn.feature_selection import RFE\n",
    "from sklearn.pipeline import Pipeline\n",
    "from xgboost import XGBClassifier\n",
    "from skopt import BayesSearchCV\n",
    "import pandas as pd\n",
    "import numpy as np"
   ],
   "outputs": [
    {
     "ename": "ModuleNotFoundError",
     "evalue": "No module named 'xgboost'",
     "output_type": "error",
     "traceback": [
      "\u001B[0;31m---------------------------------------------------------------------------\u001B[0m",
      "\u001B[0;31mModuleNotFoundError\u001B[0m                       Traceback (most recent call last)",
      "Cell \u001B[0;32mIn[1], line 9\u001B[0m\n\u001B[1;32m      7\u001B[0m \u001B[38;5;28;01mfrom\u001B[39;00m \u001B[38;5;21;01msklearn\u001B[39;00m\u001B[38;5;21;01m.\u001B[39;00m\u001B[38;5;21;01mfeature_selection\u001B[39;00m \u001B[38;5;28;01mimport\u001B[39;00m RFE\n\u001B[1;32m      8\u001B[0m \u001B[38;5;28;01mfrom\u001B[39;00m \u001B[38;5;21;01msklearn\u001B[39;00m\u001B[38;5;21;01m.\u001B[39;00m\u001B[38;5;21;01mpipeline\u001B[39;00m \u001B[38;5;28;01mimport\u001B[39;00m Pipeline\n\u001B[0;32m----> 9\u001B[0m \u001B[38;5;28;01mfrom\u001B[39;00m \u001B[38;5;21;01mxgboost\u001B[39;00m \u001B[38;5;28;01mimport\u001B[39;00m XGBClassifier\n\u001B[1;32m     10\u001B[0m \u001B[38;5;28;01mfrom\u001B[39;00m \u001B[38;5;21;01mskopt\u001B[39;00m \u001B[38;5;28;01mimport\u001B[39;00m BayesSearchCV\n\u001B[1;32m     11\u001B[0m \u001B[38;5;28;01mimport\u001B[39;00m \u001B[38;5;21;01mpandas\u001B[39;00m \u001B[38;5;28;01mas\u001B[39;00m \u001B[38;5;21;01mpd\u001B[39;00m\n",
      "\u001B[0;31mModuleNotFoundError\u001B[0m: No module named 'xgboost'"
     ]
    }
   ],
   "execution_count": 1
  },
  {
   "cell_type": "code",
   "metadata": {},
   "source": [
    "def pivot_approach(df, aggfunc='sum'):\n",
    "    # Use pivot_table to reshape the data\n",
    "    result = pd.pivot_table(df, values=df.columns.drop('POSITION'), \n",
    "                            index=df.index, columns='POSITION', \n",
    "                            aggfunc=aggfunc, fill_value=0)\n",
    "    \n",
    "    # Flatten column names\n",
    "    result.columns = [f'{stat}_{pos}' for stat, pos in result.columns]\n",
    "    \n",
    "    return result"
   ],
   "outputs": [],
   "execution_count": null
  },
  {
   "cell_type": "code",
   "metadata": {},
   "source": [
    "train_home_team_statistics_df = pd.read_csv(\"Train_Data/train_home_team_statistics_df.csv\", index_col=0)\n",
    "train_home_player_statistics_df = pd.read_csv(\"Train_Data/train_home_player_statistics_df.csv\", index_col=0)\n",
    "\n",
    "train_away_team_statistics_df = pd.read_csv(\"Train_Data/train_away_team_statistics_df.csv\", index_col=0)\n",
    "train_away_player_statistics_df = pd.read_csv(\"Train_Data/train_away_player_statistics_df.csv\", index_col=0)\n",
    "\n",
    "train_scores = pd.read_csv(\"Y_train_1rknArQ.csv\", index_col=0)"
   ],
   "outputs": [],
   "execution_count": null
  },
  {
   "cell_type": "code",
   "metadata": {},
   "source": [
    "train_home_player_statistics_df = train_home_player_statistics_df.drop([\"LEAGUE\", \"TEAM_NAME\", \"PLAYER_NAME\"], axis=1)\n",
    "train_away_player_statistics_df = train_away_player_statistics_df.drop([\"LEAGUE\", \"TEAM_NAME\", \"PLAYER_NAME\"], axis=1)"
   ],
   "outputs": [],
   "execution_count": null
  },
  {
   "cell_type": "code",
   "metadata": {},
   "source": [
    "pivoted_df_home = pivot_approach(train_home_player_statistics_df)\n",
    "pivoted_df_away = pivot_approach(train_away_player_statistics_df)"
   ],
   "outputs": [],
   "execution_count": null
  },
  {
   "cell_type": "code",
   "metadata": {},
   "source": [
    "train_home = train_home_team_statistics_df.iloc[:,2:]\n",
    "train_away = train_away_team_statistics_df.iloc[:,2:]"
   ],
   "outputs": [],
   "execution_count": null
  },
  {
   "cell_type": "code",
   "metadata": {},
   "source": [
    "train_home = train_home.fillna(0)\n",
    "train_away = train_away.fillna(0)"
   ],
   "outputs": [],
   "execution_count": null
  },
  {
   "cell_type": "code",
   "metadata": {},
   "source": [
    "pivoted_df_home = pivoted_df_home.fillna(0)\n",
    "pivoted_df_away = pivoted_df_away.fillna(0)"
   ],
   "outputs": [],
   "execution_count": null
  },
  {
   "cell_type": "code",
   "metadata": {},
   "source": [
    "pivoted_df_home.columns = 'HOME_' + pivoted_df_home.columns\n",
    "pivoted_df_away.columns = 'AWAY_' + pivoted_df_away.columns"
   ],
   "outputs": [],
   "execution_count": null
  },
  {
   "cell_type": "code",
   "metadata": {},
   "source": [
    "train_home.columns = 'HOME_' + train_home.columns\n",
    "train_away.columns = 'AWAY_' + train_away.columns\n",
    "\n",
    "train_data =  pd.concat([train_home, pivoted_df_home ,train_away, pivoted_df_away],join='inner',axis=1)\n",
    "#train_data =  pd.concat([train_home, train_away],join='inner',axis=1)\n",
    "train_scores = train_scores.loc[train_data.index]\n",
    "\n",
    "train_data = train_data.replace({np.inf:np.nan,-np.inf:np.nan})"
   ],
   "outputs": [],
   "execution_count": null
  },
  {
   "cell_type": "code",
   "metadata": {},
   "source": [
    "train_new_y = train_scores['AWAY_WINS']"
   ],
   "outputs": [],
   "execution_count": null
  },
  {
   "cell_type": "code",
   "metadata": {},
   "source": [
    "X_train, X_test, y_train, y_test = train_test_split(train_data, train_new_y, train_size=0.8, random_state=42)\n",
    "X_train, X_valid, y_train, y_valid = train_test_split(X_train, y_train, train_size=0.8, random_state=42)"
   ],
   "outputs": [],
   "execution_count": null
  },
  {
   "cell_type": "code",
   "metadata": {},
   "source": [
    "model_lr = LogisticRegressionCV(random_state=42, solver=\"sag\")\n",
    "model_gb = GradientBoostingClassifier(random_state=42)\n",
    "#model = MLPClassifier(max_iter=350)"
   ],
   "outputs": [],
   "execution_count": null
  },
  {
   "cell_type": "code",
   "metadata": {},
   "source": [
    "# # Define the search spaces for each model\n",
    "# gb_space = {\n",
    "#     'n_estimators': Integer(10, 200),\n",
    "#     'learning_rate': Real(0.001, 1.0, prior='log-uniform'),\n",
    "#     'max_depth': Integer(1, 10),\n",
    "#     'min_samples_split': Integer(2, 10),\n",
    "#     'min_samples_leaf': Integer(1, 10),\n",
    "# }"
   ],
   "outputs": [],
   "execution_count": null
  },
  {
   "cell_type": "code",
   "metadata": {},
   "source": [
    "# model = BayesSearchCV(\n",
    "#     model,\n",
    "#     gb_space,\n",
    "#     n_iter=5,\n",
    "#     cv=3,\n",
    "#     n_jobs=-1,\n",
    "#     random_state=42,\n",
    "#     verbose=2,\n",
    "#     scoring=\"accuracy\"\n",
    "# )"
   ],
   "outputs": [],
   "execution_count": null
  },
  {
   "cell_type": "code",
   "metadata": {},
   "source": [
    "estimators = [\n",
    "    (\"lr\", model_lr),\n",
    "    (\"gb\", model_gb)\n",
    "]"
   ],
   "outputs": [],
   "execution_count": null
  },
  {
   "cell_type": "code",
   "metadata": {},
   "source": [
    "model = StackingClassifier(\n",
    "    estimators=estimators,\n",
    "    final_estimator=GradientBoostingClassifier(),\n",
    "    #n_jobs=-1,\n",
    "    stack_method=\"predict_proba\"\n",
    ")"
   ],
   "outputs": [],
   "execution_count": null
  },
  {
   "cell_type": "code",
   "metadata": {},
   "source": [
    "model.fit(X_train, y_train)"
   ],
   "outputs": [],
   "execution_count": null
  },
  {
   "cell_type": "code",
   "metadata": {},
   "source": [
    "# print(\"val. score: %s\" % model.best_score_)\n",
    "# print(\"test score: %s\" % model.score(X_test, y_test))\n",
    "# print(\"best params: %s\" % str(model.best_params_))"
   ],
   "outputs": [],
   "execution_count": null
  },
  {
   "cell_type": "code",
   "metadata": {},
   "source": [
    "target = train_scores.loc[X_test.index].copy()\n",
    "\n",
    "home_wins = target\n",
    "home_wins = 0 * home_wins\n",
    "home_wins.iloc[:,0] = 1\n",
    "\n",
    "np.round(accuracy_score(home_wins,target),4)"
   ],
   "outputs": [],
   "execution_count": null
  },
  {
   "cell_type": "code",
   "metadata": {},
   "source": [
    "predictions = model.predict_proba(X_test)\n",
    "predictions = pd.DataFrame(predictions)\n",
    "predictions[2] = 0\n",
    "predictions.columns = [0,2,1]\n",
    "predictions = (predictions.reindex(columns=[0,1,2]).rank(1,ascending=False)==1).astype(int).values\n",
    "print(f\"The score is: {np.round(accuracy_score(predictions,target),4)}\")"
   ],
   "outputs": [],
   "execution_count": null
  },
  {
   "cell_type": "markdown",
   "metadata": {},
   "source": [
    "Gradient Boosting Classifier (no optimization): 0.4921\n",
    "\n",
    "XGBoost : 0.4852\n",
    "\n",
    "MLPClassifier (max_iter=300) : 0.4808\n",
    "\n",
    "LogisticRegression : 0.4821"
   ]
  },
  {
   "cell_type": "markdown",
   "metadata": {},
   "source": [
    "Submission"
   ]
  },
  {
   "cell_type": "code",
   "metadata": {},
   "source": [
    "# test_home = pd.read_csv(\"Test_Data/test_home_team_statistics_df.csv\", index_col=0)\n",
    "# test_away = pd.read_csv(\"Test_Data/test_away_team_statistics_df.csv\", index_col=0)\n",
    "\n",
    "# test_home.columns = 'HOME_' + test_home.columns\n",
    "# test_away.columns = 'AWAY_' + test_away.columns\n",
    "\n",
    "# test_data =  pd.concat([test_home,test_away],join='inner',axis=1)"
   ],
   "outputs": [],
   "execution_count": null
  },
  {
   "cell_type": "code",
   "metadata": {},
   "source": [
    "# predictions = model.predict_proba(test_data)\n",
    "# predictions = pd.DataFrame(predictions)\n",
    "\n",
    "# predictions[2] = 0\n",
    "# predictions.columns = [0,2,1]\n",
    "# predictions = (predictions.reindex(columns=[0,1,2]).rank(1,ascending=False)==1).astype(int)\n",
    "\n",
    "# predictions.columns = ['HOME_WINS', 'DRAW', 'AWAY_WINS']\n",
    "# predictions.index = test_data.index\n",
    "# submission = predictions.reset_index()\n",
    "# submission.to_csv(\"benchmark_submission.csv\", index=False)\n"
   ],
   "outputs": [],
   "execution_count": null
  }
 ],
 "metadata": {
  "kernelspec": {
   "display_name": "Python 3",
   "language": "python",
   "name": "python3"
  },
  "language_info": {
   "codemirror_mode": {
    "name": "ipython",
    "version": 3
   },
   "file_extension": ".py",
   "mimetype": "text/x-python",
   "name": "python",
   "nbconvert_exporter": "python",
   "pygments_lexer": "ipython3",
   "version": "3.12.4"
  }
 },
 "nbformat": 4,
 "nbformat_minor": 2
}
